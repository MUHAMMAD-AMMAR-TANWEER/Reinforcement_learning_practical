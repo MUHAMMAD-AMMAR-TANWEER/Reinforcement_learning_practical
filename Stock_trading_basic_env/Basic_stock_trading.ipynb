{
 "cells": [
  {
   "cell_type": "code",
   "execution_count": null,
   "metadata": {},
   "outputs": [],
   "source": [
    "from stable_baselines3.common.evaluation import evaluate_policy\n",
    "from stable_baselines3 import PPO \n",
    "from stable_baselines3.common.vec_env import DummyVecEnv\n",
    "\n",
    "import os\n",
    "import gym\n",
    "from gym import Env\n",
    "from gym.spaces import Box, MultiBinary, Tuple, Dict, MultiDiscrete"
   ]
  },
  {
   "cell_type": "code",
   "execution_count": null,
   "metadata": {},
   "outputs": [],
   "source": []
  }
 ],
 "metadata": {
  "language_info": {
   "name": "python"
  },
  "orig_nbformat": 4
 },
 "nbformat": 4,
 "nbformat_minor": 2
}
